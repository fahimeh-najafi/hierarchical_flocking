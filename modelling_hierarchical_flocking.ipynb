{
 "cells": [
  {
   "cell_type": "code",
   "execution_count": 1,
   "metadata": {},
   "outputs": [],
   "source": [
    "#  9: strict=True, contrib=True, dominance=True      *DHMZ\n",
    "# 10: strict=False, contrib=True, dominance=True     *DHM\n",
    "# 11: strict=False, contrib=True, dominance=False    *CHM\n",
    "# 12: strict=False, contrib=False, dominance=False   *VEM\n",
    "# 13: strict=True, contrib=False, dominance=True     *SHMZ\n",
    "# 14: strict=False, contrib=False, dominance=True    *SHM"
   ]
  },
  {
   "cell_type": "code",
   "execution_count": 2,
   "metadata": {},
   "outputs": [],
   "source": [
    "import numpy as np\n",
    "import matplotlib.pyplot as plt\n",
    "from tqdm import tqdm\n",
    "import imageio"
   ]
  },
  {
   "cell_type": "code",
   "execution_count": 3,
   "metadata": {},
   "outputs": [],
   "source": [
    "# defining constants\n",
    "N=80\n",
    "ro=0.5\n",
    "u=0.1\n",
    "r_rep=0.1\n",
    "r_adh=1.1\n",
    "c_align=1.\n",
    "c_rep=0.1\n",
    "c_adh=0.0002\n",
    "r=1.1\n",
    "T=200\n",
    "\n",
    "L=np.sqrt(N/(0.6*ro))\n",
    "\n",
    "eta=1\n",
    "strict=False\n",
    "contrib=False\n",
    "dominance=True\n",
    "q = 2\n",
    "dt = 1"
   ]
  },
  {
   "cell_type": "code",
   "execution_count": 4,
   "metadata": {},
   "outputs": [],
   "source": [
    "# initializing locations and directions and noise\n",
    "x=np.random.uniform(low=0.0, high=L, size=N)\n",
    "y=np.random.uniform(low=0.0, high=0.6*L, size=N)\n",
    "theta=np.random.uniform(low=-np.pi, high=np.pi, size=N)\n",
    "noise=np.random.uniform(low=-eta/2, high=eta/2, size=T)"
   ]
  },
  {
   "cell_type": "code",
   "execution_count": 5,
   "metadata": {},
   "outputs": [],
   "source": [
    "# madking the contribution matrix and dominance matrix\n",
    "if contrib==True:\n",
    "    C = np.random.lognormal(mean=0.0, sigma=1.0, size=N**2).reshape((N,N))\n",
    "\n",
    "elif contrib==False:\n",
    "    C = q*np.ones(N**2).reshape((N,N))\n",
    "\n",
    "if dominance==True:\n",
    "    B=np.tril(np.ones(int(N)))\n",
    "    if strict:\n",
    "        for i in range(N):\n",
    "            B[i,i]=0 \n",
    "            \n",
    "elif dominance==False:\n",
    "    B=np.ones((N,N))"
   ]
  },
  {
   "cell_type": "code",
   "execution_count": 6,
   "metadata": {},
   "outputs": [],
   "source": [
    "# making an array containing locations and directions during time\n",
    "data=np.zeros((N,5,T))\n",
    "data[:,0,0]=x\n",
    "data[:,1,0]=y\n",
    "data[:,2,0]=theta\n",
    "data[:,3,0]=u*np.cos(theta)\n",
    "data[:,4,0]=u*np.sin(theta)"
   ]
  },
  {
   "cell_type": "code",
   "execution_count": 7,
   "metadata": {},
   "outputs": [],
   "source": [
    "# update adjacency and distance matrices\n",
    "def update_A(data, t):\n",
    "    A = np.zeros((N,N))\n",
    "    distances = np.zeros((N,N))\n",
    "    x_distances = np.zeros((N,N))\n",
    "    y_distances = np.zeros((N,N))\n",
    "    for i in range(N):\n",
    "        for j in range(i,N):\n",
    "\n",
    "            dx=data[i,0,t]-data[j,0,t]\n",
    "            dy=data[i,1,t]-data[j,1,t]\n",
    "            distance = np.sqrt( dx**2 + dy**2 )\n",
    "            if distance <= r:\n",
    "                A[i,j] = 1\n",
    "                A[j,i] = 1\n",
    "            distances[i,j] = distance\n",
    "            distances[j,i] = distance\n",
    "            x_distances[i,j] = dx\n",
    "            x_distances[j,i] = dx\n",
    "            y_distances[i,j] = dy\n",
    "            y_distances[j,i] = dy\n",
    "            \n",
    "    return A, distances, x_distances, y_distances"
   ]
  },
  {
   "cell_type": "code",
   "execution_count": 8,
   "metadata": {},
   "outputs": [],
   "source": [
    "# alignment velocity\n",
    "def update_align(data, t):\n",
    "    mean_theta = np.arctan2(np.matmul(l,np.sin(data[:,2,t])),np.matmul(l,np.cos(data[:,2,t])))\n",
    "    theta_align = mean_theta + noise[t]\n",
    "\n",
    "    v_align_x = c_align*u*np.cos(theta_align)\n",
    "    v_align_y = c_align*u*np.sin(theta_align)\n",
    "    \n",
    "    return v_align_x, v_align_y"
   ]
  },
  {
   "cell_type": "code",
   "execution_count": 9,
   "metadata": {},
   "outputs": [],
   "source": [
    "# repulsion velocity\n",
    "def update_rep(data, t):\n",
    "    temp = np.maximum(0,r_rep-distances)\n",
    "    temp=temp/distances\n",
    "    temp[np.isnan(temp) | np.isinf(temp)] = 0\n",
    "    v_rep_x = c_rep * np.sum(l*x_distances*temp/r_rep,axis=1)\n",
    "    v_rep_y = c_rep * np.sum(l*y_distances*temp/r_rep,axis=1)\n",
    "    \n",
    "    return v_rep_x, v_rep_y"
   ]
  },
  {
   "cell_type": "code",
   "execution_count": 10,
   "metadata": {},
   "outputs": [],
   "source": [
    "# attraction velocity\n",
    "def update_adh(data, t):\n",
    "    temp=np.minimum(0,r_rep-distances)*(distances<r_adh)\n",
    "    temp=temp/distances\n",
    "    temp[np.isnan(temp) | np.isinf(temp)] = 0\n",
    "\n",
    "    v_adh_x = c_adh * np.sum(l*x_distances*temp/(r_adh-r_rep),axis=1)\n",
    "    v_adh_y = c_adh * np.sum(l*y_distances*temp/(r_adh-r_rep),axis=1)\n",
    "    \n",
    "    return v_adh_x, v_adh_y"
   ]
  },
  {
   "cell_type": "code",
   "execution_count": 11,
   "metadata": {},
   "outputs": [
    {
     "name": "stderr",
     "output_type": "stream",
     "text": [
      "  0%|          | 0/199 [00:00<?, ?it/s]<ipython-input-9-9ed86812fe50>:4: RuntimeWarning: divide by zero encountered in true_divide\n",
      "  temp=temp/distances\n",
      "<ipython-input-10-f921ea0e3b60>:4: RuntimeWarning: invalid value encountered in true_divide\n",
      "  temp=temp/distances\n",
      "100%|██████████| 199/199 [00:02<00:00, 79.12it/s]\n"
     ]
    }
   ],
   "source": [
    "for t in tqdm(range(T-1)):\n",
    "    \n",
    "    # update adjacency and distance matrices\n",
    "    A, distances, x_distances, y_distances = update_A(data, t)\n",
    "    \n",
    "    # makeing the L matrix\n",
    "    l = np.multiply(C, B) \n",
    "    l = np.multiply(l,A)\n",
    "    \n",
    "    # update alignment velocity\n",
    "    v_align_x, v_align_y = update_align(data, t)\n",
    "    # update repulsion velocity\n",
    "    v_rep_x, v_rep_y = update_rep(data, t)    \n",
    "    # update attraction velocity\n",
    "    v_adh_x, v_adh_y = update_adh(data, t)    \n",
    "    \n",
    "    # update velocity and location\n",
    "    data[:,3,t+1] = v_align_x +v_rep_x+v_adh_x\n",
    "    data[:,4,t+1] = v_align_y +v_rep_y+v_adh_y\n",
    "    data[:,2,t+1] = np.arctan2(data[:,4,t+1],data[:,3,t+1])\n",
    "    \n",
    "\n",
    "    data[:,0,t+1] = (data[:,0,t]+dt*u*np.cos(data[:,2,t]))\n",
    "    data[:,1,t+1] = (data[:,1,t]+dt*u*np.sin(data[:,2,t]))\n"
   ]
  },
  {
   "cell_type": "code",
   "execution_count": 12,
   "metadata": {},
   "outputs": [],
   "source": [
    "## making animation"
   ]
  },
  {
   "cell_type": "code",
   "execution_count": 13,
   "metadata": {},
   "outputs": [],
   "source": [
    "def make_frame(x,y,vx,vy,name):\n",
    "    fig, ax = plt.subplots(figsize=(15,0.6*15)) # note we must use plt.subplots, not plt.subplot\n",
    "\n",
    "    ax.scatter(x,y,linewidths=5)\n",
    "\n",
    "    for i in range(N):\n",
    "        ax.arrow(x[i],y[i],7*vx[i],7*vy[i],zorder=0, head_length=0.06, head_width=0.06)\n",
    "\n",
    "    ax.scatter(x[i],y[i],color='r',linewidths=7)\n",
    "#     neighborhood = plt.Circle((x[i], y[i]), r,  fill=False,color='g')\n",
    "#     ax.add_artist(neighborhood)\n",
    "\n",
    "    plt.xlim(-L,2*L)\n",
    "    plt.ylim(-0.6*L,2*0.6*L)\n",
    "\n",
    "    plt.xticks([])\n",
    "    plt.yticks([])\n",
    "#     plt.show()\n",
    "    plt.savefig(name+'.jpg')\n",
    "    plt.close(fig)"
   ]
  },
  {
   "cell_type": "code",
   "execution_count": 14,
   "metadata": {},
   "outputs": [
    {
     "name": "stderr",
     "output_type": "stream",
     "text": [
      "100%|██████████| 200/200 [00:25<00:00,  7.94it/s]\n"
     ]
    }
   ],
   "source": [
    "image_path='./images14/'\n",
    "for tt in tqdm(range(T)):\n",
    "    make_frame(data[:,0,tt],data[:,1,tt],data[:,3,tt],data[:,4,tt],image_path+str(tt))"
   ]
  },
  {
   "cell_type": "code",
   "execution_count": 15,
   "metadata": {},
   "outputs": [],
   "source": [
    "images = []\n",
    "for t in range(T):\n",
    "    images.append(imageio.imread(image_path+str(t)+'.jpg'))\n",
    "imageio.mimsave('./movie14.gif', images,duration=0.05)"
   ]
  },
  {
   "cell_type": "code",
   "execution_count": null,
   "metadata": {},
   "outputs": [],
   "source": []
  }
 ],
 "metadata": {
  "kernelspec": {
   "display_name": "Python 3",
   "language": "python",
   "name": "python3"
  },
  "language_info": {
   "codemirror_mode": {
    "name": "ipython",
    "version": 3
   },
   "file_extension": ".py",
   "mimetype": "text/x-python",
   "name": "python",
   "nbconvert_exporter": "python",
   "pygments_lexer": "ipython3",
   "version": "3.8.5"
  }
 },
 "nbformat": 4,
 "nbformat_minor": 4
}
